{
 "cells": [
  {
   "cell_type": "markdown",
   "metadata": {},
   "source": [
    "# A/B Testing a Product Recommendation Section"
   ]
  },
  {
   "cell_type": "markdown",
   "metadata": {},
   "source": [
    "## Experiment Planning"
   ]
  },
  {
   "cell_type": "markdown",
   "metadata": {
    "heading_collapsed": true
   },
   "source": [
    "### 0. Problem Description"
   ]
  },
  {
   "cell_type": "markdown",
   "metadata": {
    "hidden": true
   },
   "source": [
    "**0.1. Problem Description 1**\n",
    "\n",
    "- An eletronic shop, fictitiously named Eletronic House, sell products like TVs, cameras, laptops, headphones, HDMI and USB cables and much more. \n",
    "- The company has customers all over the world.\n",
    "- Currently for a customer to end a transaction either on site or App, there is a manual form to fill during a credit card transaction.\n",
    "- The Product Manager from the company requested a new automatic form filling process when purchasing with credit card, which was developed to fill at least 90% of the information.\n",
    "- To then reach a conclusion of which credit card payment form was better in terms of effectiveness, an A/B Test should be applied, where A would be the group of clients that would\n",
    "    continue to visualize the old payment process, and group B would be the clients that would be subject to the new payment process.\n",
    "(Knowing the metric collected, number of purchases and amount spent, it doesn't makes sense to evaluate the efectiveness of a credit card payment form, I think.)\n",
    "    \n",
    "**0.2. Problem Description 2**\n",
    "\n",
    "- An eletronic shop, fictitiously named Eletronic House, sell products like TVs, cameras, laptops, headphones, HDMI and USB cables and much more. \n",
    "\n",
    "- The company has customers all over the world.\n",
    "\n",
    "- Currently there is a recommendation system to show related products to the ones already on the shop cart, and on the page there is a section where they are displayed in a way that would be intuitive for the client to associate and get the desire to purchase more products.\n",
    "\n",
    "- The Product Manager from the company requested a new recommendation section design, which was developed to become even more intuitive.\n",
    "\n",
    "- To then reach a conclusion of which recommendation system section design is better, the business metric set by the PM that he considers sufficient to choose the new section design is to sell at least 50% more products, i.e. 1.5 times more the purchases per client. Or an increase on the amount spent per client of around 10%.\n",
    "\n",
    "- Since there is a differrent design for the site and the App, two A/B Tests should be conducted, where A would be the group of clients that would continue to visualize the old section design, and group B would be the clients that would be subject to the new section design.\n",
    "\n",
    "- The A/B test comes as a guarantee that both pages sections are at the same time or season and within the same current market and economic conditions."
   ]
  },
  {
   "cell_type": "markdown",
   "metadata": {
    "heading_collapsed": true
   },
   "source": [
    "### 1. Experiment Design"
   ]
  },
  {
   "cell_type": "markdown",
   "metadata": {
    "hidden": true
   },
   "source": [
    "- Usually when making an experiment on a website, the two groups are segmented by randomly showing the different pages to visitors, and the main idea is to make the test blind to every subject, and balanced in terms of gender, localization and other clients aspects which is assured by attempting to give more information to this random segmentation process. \n",
    "\n",
    "- For the blindness normally its harder, since the user can start a process on a device and end on another one, where the landing page was already changed, but maybe if the IP address is the same, and the first public IP address is saved as of belonging to the respective user id. The latter option was a solution for clients that starts the purchase process but are not yet registered. If the client is already registered the displayed page should always be the same to a specific user id.\n",
    "\n",
    "- So there must not exist repeated users between groups, and this must be verified.\n",
    "\n",
    "- Regarding the balanced distribution of clients of different genders and locations, a verification should be made, since ideally it should exist the same number of men and women, and clients from every location, to have an unbiased metric collection in terms of getting clients within different conditions.\n",
    "\n",
    "- Ideally the number of samples would be the same for each group, but it is not mandatory. \n",
    "\n",
    "\n",
    "**1.1 Hypothesis, Response Variable, Control and Test Groups**\n",
    "\n",
    "- The control group will be the group of clients that will visualize the old section page, and the test group will be the group of clients that will see the new section page, group B and A, respectively.\n",
    "\n",
    "- Both number of purchases or amount of sales can be the response variable.\n",
    "\n",
    "- The null hypothesis is that there is no difference on the average number of purchases or amount of sales per client between the control and test group, and the alternative hypothesis is that there is a difference between both groups on these response variables, which may lead to conclude that the new section of recommendation is getting the clients to purchase more items and consequently spending more.\n",
    "\n",
    "\n",
    "**1.2. Test Feasibility**\n",
    "\n",
    "- Assume if the test is feasible to collect the minimum amount of samples, knowing the effect size needed to be considered a success, the number of visitors per day, and the cost each day of test has, which is related also with the business metric goal.\n",
    "\n",
    "- In this case, as the data as already been collected, and I don't have cost values, I only have to calculate the effect size based on the two groups.\n",
    "\n",
    "- But originally it would be needed the calculation of the effect size based on the historical data of purchases and sales, to then based on what would be the minimum required lift to get the return on the initial investment on the development and test, calculate the final effect size, to know the necessary sample size to be collected to get that desired lift or to use on a permutation test.\n",
    "\n",
    "\n",
    "**1.3 Effect Size**\n",
    "\n",
    "- The effect of variation is difficult to predict (in practice this is precisely the question you are asking yourself!). As a general rule, even the tiniest effect size can be found statistically significant with a large enough sample. \n",
    "\n",
    "- Does the effect size formulas take into account the different response variables scales? On a common revenue scale, only bigger names are important, but an high effect size on some neurological response variable could be in nanoseconds, that is a very small value. (Open question)\n",
    "\n",
    "- First use the most raw method to calculate the effect size, that is the difference between averages of purchases and amount spent. Then use the glass's delta, that is the same but standardized by the population standard deviation, or the cohen d standardized with the pooled standard deviation.\n",
    "\n",
    "**1.4 Sample size**\n",
    "\n",
    "- By having the effect size and defining the probability that the test should be correctly assuming the effect size as statistically significant (Power), which the inverse is the probability of Type error II to occur, and the level of significance that is also a probability of considering what is the threshold of very rare events, since it deviates a lot from the original distribution (alpha-level) also known as the probability of occurring Type error I, it's possible to calculate the sample size.\n",
    "\n",
    "**1.5. Response Variables Normality Test**\n",
    "\n",
    "- The shapiro test must be conducted to validate the normality on the response variable, or just by looking at a QQ-plot.\n",
    "\n",
    "- Or even only analyzing the distribution visually.\n",
    "\n",
    "**1.6. Statistical test**\n",
    "\n",
    "- Since it was already collected a total of 22091 records for the site A/B test and a total of 22982 for the App A/B test, a statistical test can be used to calculate the difference between purchases per client, i.e. the difference between average purchases or variance, which demands a test that deals with quantitative data. The test chosen depends on the distribution the response variable has or the sample size. I think it can be an ANOVA test or F-Test for both outcome/response variable, since they are continuous variables.\n",
    "\n",
    "- But choosing the test normally have some assumptions dependencies, such as if the samples are being taken independently or not, and following a normal distribution or not.\n",
    "\n",
    "- So it will be the T-test if they are normal distributed, and the Wilcoxon if their distribution is skewed.\n",
    "\n",
    "- And what it makes sense is a one-sided test, in this case greater/larger, so the confidence level of 95% consists of a 5% or 2.5% of significance level depending on the statistical test."
   ]
  },
  {
   "cell_type": "markdown",
   "metadata": {
    "heading_collapsed": true
   },
   "source": [
    "### 2. Business Conversion"
   ]
  },
  {
   "cell_type": "markdown",
   "metadata": {
    "hidden": true
   },
   "source": [
    "- To evaluate and compare the recommendation section design revenue I only have to compare the averages and assume that with a level of confidence the new page may bring an increase on sales or/and number of purchases.   "
   ]
  },
  {
   "cell_type": "markdown",
   "metadata": {
    "heading_collapsed": true
   },
   "source": [
    "### 3. Next Steps"
   ]
  },
  {
   "cell_type": "markdown",
   "metadata": {
    "hidden": true
   },
   "source": [
    "**1.** Check the date range available, to maybe define a past knowledge, to compare with a more recent one.\n",
    "\n",
    "**2.** Check the number of web visitors per day or per week, depending on the granularity."
   ]
  },
  {
   "cell_type": "markdown",
   "metadata": {},
   "source": [
    "## Workspace Setup\n",
    "\n",
    "***"
   ]
  },
  {
   "cell_type": "markdown",
   "metadata": {},
   "source": [
    "### Library Imports"
   ]
  },
  {
   "cell_type": "code",
   "execution_count": 1,
   "metadata": {},
   "outputs": [],
   "source": [
    "from IPython.display import display, HTML, Image\n",
    "from matplotlib import pyplot as plt\n",
    "\n",
    "from scipy.stats import shapiro\n",
    "\n",
    "import numpy as np\n",
    "import random\n",
    "import pandas as pd\n",
    "import seaborn as sns\n",
    "import statsmodels.api as sm\n",
    "import pingouin as pg\n",
    "import scipy.stats as stats"
   ]
  },
  {
   "cell_type": "markdown",
   "metadata": {},
   "source": [
    "### Settings"
   ]
  },
  {
   "cell_type": "code",
   "execution_count": 2,
   "metadata": {},
   "outputs": [],
   "source": [
    "def jupyter_settings():\n",
    "    \n",
    "    display(HTML('<style>.container {width:100% !important;}</style>'))"
   ]
  },
  {
   "cell_type": "code",
   "execution_count": 3,
   "metadata": {},
   "outputs": [
    {
     "data": {
      "text/html": [
       "<style>.container {width:100% !important;}</style>"
      ],
      "text/plain": [
       "<IPython.core.display.HTML object>"
      ]
     },
     "metadata": {},
     "output_type": "display_data"
    }
   ],
   "source": [
    "jupyter_settings()"
   ]
  },
  {
   "cell_type": "markdown",
   "metadata": {},
   "source": [
    "### Auxiliar Functions"
   ]
  },
  {
   "cell_type": "code",
   "execution_count": null,
   "metadata": {},
   "outputs": [],
   "source": []
  },
  {
   "cell_type": "markdown",
   "metadata": {},
   "source": [
    "## 0. Data Import and Setup"
   ]
  },
  {
   "cell_type": "markdown",
   "metadata": {},
   "source": [
    "### Import Data"
   ]
  },
  {
   "cell_type": "code",
   "execution_count": 4,
   "metadata": {},
   "outputs": [],
   "source": [
    "ab_records_df = pd.read_csv('../data/ab_testing.csv') "
   ]
  },
  {
   "cell_type": "markdown",
   "metadata": {},
   "source": [
    "### General Info"
   ]
  },
  {
   "cell_type": "code",
   "execution_count": 5,
   "metadata": {},
   "outputs": [
    {
     "data": {
      "text/html": [
       "<div>\n",
       "<style scoped>\n",
       "    .dataframe tbody tr th:only-of-type {\n",
       "        vertical-align: middle;\n",
       "    }\n",
       "\n",
       "    .dataframe tbody tr th {\n",
       "        vertical-align: top;\n",
       "    }\n",
       "\n",
       "    .dataframe thead th {\n",
       "        text-align: right;\n",
       "    }\n",
       "</style>\n",
       "<table border=\"1\" class=\"dataframe\">\n",
       "  <thead>\n",
       "    <tr style=\"text-align: right;\">\n",
       "      <th></th>\n",
       "      <th>uid</th>\n",
       "      <th>country</th>\n",
       "      <th>gender</th>\n",
       "      <th>spent</th>\n",
       "      <th>purchases</th>\n",
       "      <th>date</th>\n",
       "      <th>group</th>\n",
       "      <th>device</th>\n",
       "    </tr>\n",
       "  </thead>\n",
       "  <tbody>\n",
       "    <tr>\n",
       "      <th>0</th>\n",
       "      <td>11115722</td>\n",
       "      <td>MEX</td>\n",
       "      <td>F</td>\n",
       "      <td>1595</td>\n",
       "      <td>5</td>\n",
       "      <td>2016-03-08</td>\n",
       "      <td>GRP B</td>\n",
       "      <td>I</td>\n",
       "    </tr>\n",
       "    <tr>\n",
       "      <th>1</th>\n",
       "      <td>11122053</td>\n",
       "      <td>USA</td>\n",
       "      <td>M</td>\n",
       "      <td>498</td>\n",
       "      <td>2</td>\n",
       "      <td>2017-07-14</td>\n",
       "      <td>GRP B</td>\n",
       "      <td>I</td>\n",
       "    </tr>\n",
       "    <tr>\n",
       "      <th>2</th>\n",
       "      <td>11128688</td>\n",
       "      <td>USA</td>\n",
       "      <td>F</td>\n",
       "      <td>2394</td>\n",
       "      <td>6</td>\n",
       "      <td>2017-09-17</td>\n",
       "      <td>GRP A</td>\n",
       "      <td>I</td>\n",
       "    </tr>\n",
       "    <tr>\n",
       "      <th>3</th>\n",
       "      <td>11130578</td>\n",
       "      <td>USA</td>\n",
       "      <td>F</td>\n",
       "      <td>1197</td>\n",
       "      <td>3</td>\n",
       "      <td>2017-11-30</td>\n",
       "      <td>GRP A</td>\n",
       "      <td>I</td>\n",
       "    </tr>\n",
       "    <tr>\n",
       "      <th>4</th>\n",
       "      <td>11130759</td>\n",
       "      <td>ESP</td>\n",
       "      <td>M</td>\n",
       "      <td>1297</td>\n",
       "      <td>3</td>\n",
       "      <td>2018-01-10</td>\n",
       "      <td>GRP B</td>\n",
       "      <td>A</td>\n",
       "    </tr>\n",
       "  </tbody>\n",
       "</table>\n",
       "</div>"
      ],
      "text/plain": [
       "        uid country gender  spent  purchases        date  group device\n",
       "0  11115722     MEX      F   1595          5  2016-03-08  GRP B      I\n",
       "1  11122053     USA      M    498          2  2017-07-14  GRP B      I\n",
       "2  11128688     USA      F   2394          6  2017-09-17  GRP A      I\n",
       "3  11130578     USA      F   1197          3  2017-11-30  GRP A      I\n",
       "4  11130759     ESP      M   1297          3  2018-01-10  GRP B      A"
      ]
     },
     "execution_count": 5,
     "metadata": {},
     "output_type": "execute_result"
    }
   ],
   "source": [
    "ab_records_df.head()"
   ]
  },
  {
   "cell_type": "code",
   "execution_count": 6,
   "metadata": {},
   "outputs": [
    {
     "name": "stdout",
     "output_type": "stream",
     "text": [
      "<class 'pandas.core.frame.DataFrame'>\n",
      "RangeIndex: 45883 entries, 0 to 45882\n",
      "Data columns (total 8 columns):\n",
      " #   Column     Non-Null Count  Dtype \n",
      "---  ------     --------------  ----- \n",
      " 0   uid        45883 non-null  int64 \n",
      " 1   country    45883 non-null  object\n",
      " 2   gender     45883 non-null  object\n",
      " 3   spent      45883 non-null  int64 \n",
      " 4   purchases  45883 non-null  int64 \n",
      " 5   date       45883 non-null  object\n",
      " 6   group      45883 non-null  object\n",
      " 7   device     45883 non-null  object\n",
      "dtypes: int64(3), object(5)\n",
      "memory usage: 2.8+ MB\n"
     ]
    }
   ],
   "source": [
    "ab_records_df.info()"
   ]
  },
  {
   "cell_type": "code",
   "execution_count": 7,
   "metadata": {},
   "outputs": [
    {
     "data": {
      "text/html": [
       "<div>\n",
       "<style scoped>\n",
       "    .dataframe tbody tr th:only-of-type {\n",
       "        vertical-align: middle;\n",
       "    }\n",
       "\n",
       "    .dataframe tbody tr th {\n",
       "        vertical-align: top;\n",
       "    }\n",
       "\n",
       "    .dataframe thead th {\n",
       "        text-align: right;\n",
       "    }\n",
       "</style>\n",
       "<table border=\"1\" class=\"dataframe\">\n",
       "  <thead>\n",
       "    <tr style=\"text-align: right;\">\n",
       "      <th></th>\n",
       "      <th>count</th>\n",
       "      <th>mean</th>\n",
       "      <th>std</th>\n",
       "      <th>min</th>\n",
       "      <th>25%</th>\n",
       "      <th>50%</th>\n",
       "      <th>75%</th>\n",
       "      <th>max</th>\n",
       "    </tr>\n",
       "  </thead>\n",
       "  <tbody>\n",
       "    <tr>\n",
       "      <th>uid</th>\n",
       "      <td>45883.0</td>\n",
       "      <td>5.544232e+07</td>\n",
       "      <td>2.558679e+07</td>\n",
       "      <td>11115722.0</td>\n",
       "      <td>33395751.5</td>\n",
       "      <td>55312026.0</td>\n",
       "      <td>77535569.0</td>\n",
       "      <td>99999383.0</td>\n",
       "    </tr>\n",
       "    <tr>\n",
       "      <th>spent</th>\n",
       "      <td>45883.0</td>\n",
       "      <td>1.883453e+03</td>\n",
       "      <td>1.363922e+03</td>\n",
       "      <td>99.0</td>\n",
       "      <td>897.0</td>\n",
       "      <td>1596.0</td>\n",
       "      <td>2593.0</td>\n",
       "      <td>12170.0</td>\n",
       "    </tr>\n",
       "    <tr>\n",
       "      <th>purchases</th>\n",
       "      <td>45883.0</td>\n",
       "      <td>4.544385e+00</td>\n",
       "      <td>3.102454e+00</td>\n",
       "      <td>1.0</td>\n",
       "      <td>2.0</td>\n",
       "      <td>4.0</td>\n",
       "      <td>6.0</td>\n",
       "      <td>30.0</td>\n",
       "    </tr>\n",
       "  </tbody>\n",
       "</table>\n",
       "</div>"
      ],
      "text/plain": [
       "             count          mean           std         min         25%  \\\n",
       "uid        45883.0  5.544232e+07  2.558679e+07  11115722.0  33395751.5   \n",
       "spent      45883.0  1.883453e+03  1.363922e+03        99.0       897.0   \n",
       "purchases  45883.0  4.544385e+00  3.102454e+00         1.0         2.0   \n",
       "\n",
       "                  50%         75%         max  \n",
       "uid        55312026.0  77535569.0  99999383.0  \n",
       "spent          1596.0      2593.0     12170.0  \n",
       "purchases         4.0         6.0        30.0  "
      ]
     },
     "execution_count": 7,
     "metadata": {},
     "output_type": "execute_result"
    }
   ],
   "source": [
    "ab_records_df.describe().T"
   ]
  },
  {
   "cell_type": "markdown",
   "metadata": {},
   "source": [
    "### Setup data"
   ]
  },
  {
   "cell_type": "markdown",
   "metadata": {},
   "source": [
    "#### Change date type"
   ]
  },
  {
   "cell_type": "code",
   "execution_count": 8,
   "metadata": {},
   "outputs": [
    {
     "data": {
      "text/plain": [
       "dtype('<M8[ns]')"
      ]
     },
     "execution_count": 8,
     "metadata": {},
     "output_type": "execute_result"
    }
   ],
   "source": [
    "ab_records_df['date'] = pd.to_datetime(ab_records_df['date'])\n",
    "\n",
    "ab_records_df['date'].dtype"
   ]
  },
  {
   "cell_type": "markdown",
   "metadata": {},
   "source": [
    "#### Change names"
   ]
  },
  {
   "cell_type": "code",
   "execution_count": 9,
   "metadata": {},
   "outputs": [],
   "source": [
    "ab_records_df = ab_records_df.replace(['GRP A','GRP B'],['A','B'])"
   ]
  },
  {
   "cell_type": "code",
   "execution_count": 10,
   "metadata": {},
   "outputs": [
    {
     "data": {
      "text/html": [
       "<div>\n",
       "<style scoped>\n",
       "    .dataframe tbody tr th:only-of-type {\n",
       "        vertical-align: middle;\n",
       "    }\n",
       "\n",
       "    .dataframe tbody tr th {\n",
       "        vertical-align: top;\n",
       "    }\n",
       "\n",
       "    .dataframe thead th {\n",
       "        text-align: right;\n",
       "    }\n",
       "</style>\n",
       "<table border=\"1\" class=\"dataframe\">\n",
       "  <thead>\n",
       "    <tr style=\"text-align: right;\">\n",
       "      <th></th>\n",
       "      <th>uid</th>\n",
       "      <th>country</th>\n",
       "      <th>gender</th>\n",
       "      <th>spent</th>\n",
       "      <th>purchases</th>\n",
       "      <th>date</th>\n",
       "      <th>group</th>\n",
       "      <th>device</th>\n",
       "    </tr>\n",
       "  </thead>\n",
       "  <tbody>\n",
       "    <tr>\n",
       "      <th>0</th>\n",
       "      <td>11115722</td>\n",
       "      <td>MEX</td>\n",
       "      <td>F</td>\n",
       "      <td>1595</td>\n",
       "      <td>5</td>\n",
       "      <td>2016-03-08</td>\n",
       "      <td>B</td>\n",
       "      <td>I</td>\n",
       "    </tr>\n",
       "    <tr>\n",
       "      <th>1</th>\n",
       "      <td>11122053</td>\n",
       "      <td>USA</td>\n",
       "      <td>M</td>\n",
       "      <td>498</td>\n",
       "      <td>2</td>\n",
       "      <td>2017-07-14</td>\n",
       "      <td>B</td>\n",
       "      <td>I</td>\n",
       "    </tr>\n",
       "    <tr>\n",
       "      <th>2</th>\n",
       "      <td>11128688</td>\n",
       "      <td>USA</td>\n",
       "      <td>F</td>\n",
       "      <td>2394</td>\n",
       "      <td>6</td>\n",
       "      <td>2017-09-17</td>\n",
       "      <td>A</td>\n",
       "      <td>I</td>\n",
       "    </tr>\n",
       "    <tr>\n",
       "      <th>3</th>\n",
       "      <td>11130578</td>\n",
       "      <td>USA</td>\n",
       "      <td>F</td>\n",
       "      <td>1197</td>\n",
       "      <td>3</td>\n",
       "      <td>2017-11-30</td>\n",
       "      <td>A</td>\n",
       "      <td>I</td>\n",
       "    </tr>\n",
       "    <tr>\n",
       "      <th>4</th>\n",
       "      <td>11130759</td>\n",
       "      <td>ESP</td>\n",
       "      <td>M</td>\n",
       "      <td>1297</td>\n",
       "      <td>3</td>\n",
       "      <td>2018-01-10</td>\n",
       "      <td>B</td>\n",
       "      <td>A</td>\n",
       "    </tr>\n",
       "  </tbody>\n",
       "</table>\n",
       "</div>"
      ],
      "text/plain": [
       "        uid country gender  spent  purchases       date group device\n",
       "0  11115722     MEX      F   1595          5 2016-03-08     B      I\n",
       "1  11122053     USA      M    498          2 2017-07-14     B      I\n",
       "2  11128688     USA      F   2394          6 2017-09-17     A      I\n",
       "3  11130578     USA      F   1197          3 2017-11-30     A      I\n",
       "4  11130759     ESP      M   1297          3 2018-01-10     B      A"
      ]
     },
     "execution_count": 10,
     "metadata": {},
     "output_type": "execute_result"
    }
   ],
   "source": [
    "ab_records_df.head()"
   ]
  },
  {
   "cell_type": "markdown",
   "metadata": {},
   "source": [
    "## 1. Experiment Design"
   ]
  },
  {
   "cell_type": "markdown",
   "metadata": {},
   "source": [
    "### 1.1. Control and Test groups definition "
   ]
  },
  {
   "cell_type": "markdown",
   "metadata": {},
   "source": [
    "#### Create a dataset previous to the A/B test and separating the A/B testing by device \n",
    "\n",
    "- To do that I must only select the data before a defined date and it should only be from Group A (control group)\n",
    "- To really calculate the original metric based on historical data, and then calculate the effect size knowing the metric goal"
   ]
  },
  {
   "cell_type": "code",
   "execution_count": 11,
   "metadata": {},
   "outputs": [],
   "source": [
    "date = '2017-01-01'\n",
    "\n",
    "pre_ab_test_df = ab_records_df[ab_records_df['date'] < pd.to_datetime(date)] \n",
    "\n",
    "pre_ab_site_page_df = pre_ab_test_df[pre_ab_test_df['device'] == 'I']\n",
    "\n",
    "pre_ab_app_page_df = pre_ab_test_df[pre_ab_test_df['device'] == 'A']"
   ]
  },
  {
   "cell_type": "code",
   "execution_count": 12,
   "metadata": {},
   "outputs": [],
   "source": [
    "ab_test_df = ab_records_df[ab_records_df['date'] >= pd.to_datetime(date)] \n",
    "\n",
    "ab_site_page_df = ab_test_df[ab_test_df['device'] == 'I']\n",
    "\n",
    "ab_app_page_df = ab_test_df[ab_test_df['device'] == 'A']"
   ]
  },
  {
   "cell_type": "code",
   "execution_count": 13,
   "metadata": {},
   "outputs": [
    {
     "data": {
      "text/plain": [
       "(13334, 8)"
      ]
     },
     "execution_count": 13,
     "metadata": {},
     "output_type": "execute_result"
    }
   ],
   "source": [
    "ab_site_page_df.shape"
   ]
  },
  {
   "cell_type": "code",
   "execution_count": 14,
   "metadata": {},
   "outputs": [
    {
     "data": {
      "text/plain": [
       "(13383, 8)"
      ]
     },
     "execution_count": 14,
     "metadata": {},
     "output_type": "execute_result"
    }
   ],
   "source": [
    "ab_app_page_df.shape"
   ]
  },
  {
   "cell_type": "code",
   "execution_count": 15,
   "metadata": {},
   "outputs": [],
   "source": [
    "ab_site_control_df = ab_site_page_df[ab_site_page_df['group'] == 'A']\n",
    "\n",
    "ab_site_test_df = ab_site_page_df[ab_site_page_df['group'] == 'B']"
   ]
  },
  {
   "cell_type": "code",
   "execution_count": 16,
   "metadata": {},
   "outputs": [
    {
     "data": {
      "text/plain": [
       "(6717, 8)"
      ]
     },
     "execution_count": 16,
     "metadata": {},
     "output_type": "execute_result"
    }
   ],
   "source": [
    "ab_site_control_df.shape"
   ]
  },
  {
   "cell_type": "code",
   "execution_count": 17,
   "metadata": {},
   "outputs": [
    {
     "data": {
      "text/plain": [
       "(6617, 8)"
      ]
     },
     "execution_count": 17,
     "metadata": {},
     "output_type": "execute_result"
    }
   ],
   "source": [
    "ab_site_test_df.shape"
   ]
  },
  {
   "cell_type": "code",
   "execution_count": 18,
   "metadata": {},
   "outputs": [],
   "source": [
    "ab_app_control_df = ab_app_page_df[ab_app_page_df['group'] == 'A']\n",
    "\n",
    "ab_app_test_df = ab_app_page_df[ab_app_page_df['group'] == 'B']"
   ]
  },
  {
   "cell_type": "code",
   "execution_count": 19,
   "metadata": {},
   "outputs": [
    {
     "data": {
      "text/plain": [
       "(6696, 8)"
      ]
     },
     "execution_count": 19,
     "metadata": {},
     "output_type": "execute_result"
    }
   ],
   "source": [
    "ab_app_control_df.shape"
   ]
  },
  {
   "cell_type": "code",
   "execution_count": 20,
   "metadata": {},
   "outputs": [
    {
     "data": {
      "text/plain": [
       "(6687, 8)"
      ]
     },
     "execution_count": 20,
     "metadata": {},
     "output_type": "execute_result"
    }
   ],
   "source": [
    "ab_app_test_df.shape"
   ]
  },
  {
   "cell_type": "code",
   "execution_count": 21,
   "metadata": {},
   "outputs": [
    {
     "name": "stdout",
     "output_type": "stream",
     "text": [
      "Number of duplicated users on site: 0\n",
      "Number of duplicated users on app: 0\n"
     ]
    }
   ],
   "source": [
    "# number of groups per user on site\n",
    "duplicated_users_site = len(ab_site_page_df[['uid','group']].groupby(by='uid').count().query('group > 1') )\n",
    "\n",
    "# number of groups per user on app\n",
    "duplicated_users_app = len(ab_app_page_df[['uid','group']].groupby(by='uid').count().query('group > 1') )\n",
    "\n",
    "print( f'Number of duplicated users on site: {duplicated_users_site}' )\n",
    "print( f'Number of duplicated users on app: {duplicated_users_app}' )"
   ]
  },
  {
   "cell_type": "markdown",
   "metadata": {},
   "source": [
    "#### Using all the dataset for the A/B testing with no historical data"
   ]
  },
  {
   "cell_type": "code",
   "execution_count": 22,
   "metadata": {},
   "outputs": [
    {
     "data": {
      "text/html": [
       "<div>\n",
       "<style scoped>\n",
       "    .dataframe tbody tr th:only-of-type {\n",
       "        vertical-align: middle;\n",
       "    }\n",
       "\n",
       "    .dataframe tbody tr th {\n",
       "        vertical-align: top;\n",
       "    }\n",
       "\n",
       "    .dataframe thead th {\n",
       "        text-align: right;\n",
       "    }\n",
       "</style>\n",
       "<table border=\"1\" class=\"dataframe\">\n",
       "  <thead>\n",
       "    <tr style=\"text-align: right;\">\n",
       "      <th></th>\n",
       "      <th>uid</th>\n",
       "      <th>country</th>\n",
       "      <th>gender</th>\n",
       "      <th>spent</th>\n",
       "      <th>purchases</th>\n",
       "      <th>date</th>\n",
       "      <th>group</th>\n",
       "      <th>device</th>\n",
       "    </tr>\n",
       "  </thead>\n",
       "  <tbody>\n",
       "    <tr>\n",
       "      <th>12</th>\n",
       "      <td>11143138</td>\n",
       "      <td>BRA</td>\n",
       "      <td>M</td>\n",
       "      <td>2592</td>\n",
       "      <td>8</td>\n",
       "      <td>2015-05-20</td>\n",
       "      <td>B</td>\n",
       "      <td>A</td>\n",
       "    </tr>\n",
       "    <tr>\n",
       "      <th>15</th>\n",
       "      <td>11148343</td>\n",
       "      <td>BRA</td>\n",
       "      <td>M</td>\n",
       "      <td>299</td>\n",
       "      <td>1</td>\n",
       "      <td>2016-09-04</td>\n",
       "      <td>B</td>\n",
       "      <td>A</td>\n",
       "    </tr>\n",
       "    <tr>\n",
       "      <th>31</th>\n",
       "      <td>11172970</td>\n",
       "      <td>BRA</td>\n",
       "      <td>M</td>\n",
       "      <td>1797</td>\n",
       "      <td>3</td>\n",
       "      <td>2017-07-05</td>\n",
       "      <td>B</td>\n",
       "      <td>I</td>\n",
       "    </tr>\n",
       "    <tr>\n",
       "      <th>36</th>\n",
       "      <td>11177332</td>\n",
       "      <td>BRA</td>\n",
       "      <td>M</td>\n",
       "      <td>1994</td>\n",
       "      <td>6</td>\n",
       "      <td>2017-01-06</td>\n",
       "      <td>B</td>\n",
       "      <td>I</td>\n",
       "    </tr>\n",
       "    <tr>\n",
       "      <th>37</th>\n",
       "      <td>11179295</td>\n",
       "      <td>BRA</td>\n",
       "      <td>M</td>\n",
       "      <td>1198</td>\n",
       "      <td>2</td>\n",
       "      <td>2017-12-19</td>\n",
       "      <td>B</td>\n",
       "      <td>A</td>\n",
       "    </tr>\n",
       "  </tbody>\n",
       "</table>\n",
       "</div>"
      ],
      "text/plain": [
       "         uid country gender  spent  purchases       date group device\n",
       "12  11143138     BRA      M   2592          8 2015-05-20     B      A\n",
       "15  11148343     BRA      M    299          1 2016-09-04     B      A\n",
       "31  11172970     BRA      M   1797          3 2017-07-05     B      I\n",
       "36  11177332     BRA      M   1994          6 2017-01-06     B      I\n",
       "37  11179295     BRA      M   1198          2 2017-12-19     B      A"
      ]
     },
     "execution_count": 22,
     "metadata": {},
     "output_type": "execute_result"
    }
   ],
   "source": [
    "country_name = 'BRA'\n",
    "\n",
    "country_ab_records_df = ab_records_df.loc[ab_records_df['country'] == country_name]\n",
    "\n",
    "country_ab_records_df.head()"
   ]
  },
  {
   "cell_type": "code",
   "execution_count": 23,
   "metadata": {},
   "outputs": [],
   "source": [
    "control_group = 'B'\n",
    "test_group = 'A'\n",
    "\n",
    "ab_control_df = country_ab_records_df[country_ab_records_df['group'] == control_group]\n",
    "\n",
    "# test group dataframe\n",
    "ab_test_df = country_ab_records_df[country_ab_records_df['group'] == test_group]"
   ]
  },
  {
   "cell_type": "markdown",
   "metadata": {},
   "source": [
    "### 1.2. Verify data inconsitencies   "
   ]
  },
  {
   "cell_type": "markdown",
   "metadata": {},
   "source": [
    "#### 1.2.1. Duplicated test subjects"
   ]
  },
  {
   "cell_type": "code",
   "execution_count": 24,
   "metadata": {},
   "outputs": [
    {
     "name": "stdout",
     "output_type": "stream",
     "text": [
      "Number of duplicated users: 0\n"
     ]
    }
   ],
   "source": [
    "# number of groups per user\n",
    "duplicated_users = len(country_ab_records_df[['uid','group']].groupby(by='uid').count().query('group > 1') )\n",
    "\n",
    "print( f'Number of duplicated users: {duplicated_users}' )"
   ]
  },
  {
   "cell_type": "markdown",
   "metadata": {},
   "source": [
    "#### 1.2.2. Missing values"
   ]
  },
  {
   "cell_type": "code",
   "execution_count": 25,
   "metadata": {},
   "outputs": [
    {
     "name": "stdout",
     "output_type": "stream",
     "text": [
      "Number of missing values on Control Group: \n",
      "uid          0\n",
      "country      0\n",
      "gender       0\n",
      "spent        0\n",
      "purchases    0\n",
      "date         0\n",
      "group        0\n",
      "device       0\n",
      "dtype: int64\n",
      "\n",
      "Number of missing values on Test Group: \n",
      "uid          0\n",
      "country      0\n",
      "gender       0\n",
      "spent        0\n",
      "purchases    0\n",
      "date         0\n",
      "group        0\n",
      "device       0\n",
      "dtype: int64\n"
     ]
    }
   ],
   "source": [
    "print(f'Number of missing values on Control Group: \\n{ab_control_df.isna().sum()}', end='\\n\\n')\n",
    "print(f'Number of missing values on Test Group: \\n{ab_test_df.isna().sum()}')"
   ]
  },
  {
   "cell_type": "markdown",
   "metadata": {},
   "source": [
    "### 1.3. Verify the categories balance"
   ]
  },
  {
   "cell_type": "code",
   "execution_count": 26,
   "metadata": {},
   "outputs": [
    {
     "name": "stdout",
     "output_type": "stream",
     "text": [
      "Number of subjects on Control Group: 4491\n",
      "Number of subjects on Test Group: 4518\n"
     ]
    }
   ],
   "source": [
    "print(f'Number of subjects on Control Group: {ab_control_df.shape[0]}')\n",
    "print(f'Number of subjects on Test Group: {ab_test_df.shape[0]}')"
   ]
  },
  {
   "cell_type": "markdown",
   "metadata": {},
   "source": [
    "#### Number of groups by Gender and Device by group "
   ]
  },
  {
   "cell_type": "code",
   "execution_count": 27,
   "metadata": {},
   "outputs": [
    {
     "data": {
      "text/plain": [
       "<AxesSubplot:xlabel='group'>"
      ]
     },
     "execution_count": 27,
     "metadata": {},
     "output_type": "execute_result"
    },
    {
     "data": {
      "image/png": "[encoded data removed]",
      "text/plain": [
       "<Figure size 1008x432 with 2 Axes>"
      ]
     },
     "metadata": {
      "needs_background": "light"
     },
     "output_type": "display_data"
    }
   ],
   "source": [
    "fig, axs = plt.subplots(nrows=1, ncols=2, figsize=(14,6))\n",
    "\n",
    "country_ab_records_df.groupby(['group'])['gender'].value_counts().unstack().plot.bar(ax=axs[0])\n",
    "\n",
    "country_ab_records_df.groupby(['group'])['device'].value_counts().unstack().plot.bar(ax=axs[1])"
   ]
  },
  {
   "cell_type": "markdown",
   "metadata": {
    "heading_collapsed": true
   },
   "source": [
    "#### Conclusions\n",
    "\n",
    "It is more or less proportional."
   ]
  },
  {
   "cell_type": "markdown",
   "metadata": {},
   "source": [
    "### 1.4. Determine best sample size"
   ]
  },
  {
   "cell_type": "markdown",
   "metadata": {},
   "source": [
    "#### 1.4.1 Original distributions"
   ]
  },
  {
   "cell_type": "markdown",
   "metadata": {},
   "source": [
    "##### Site and App"
   ]
  },
  {
   "cell_type": "code",
   "execution_count": 28,
   "metadata": {
    "cell_style": "split",
    "scrolled": false
   },
   "outputs": [
    {
     "data": {
      "text/plain": [
       "<matplotlib.legend.Legend at 0x7fce03d2c880>"
      ]
     },
     "execution_count": 28,
     "metadata": {},
     "output_type": "execute_result"
    },
    {
     "data": {
      "image/png": "[encoded data removed]",
      "text/plain": [
       "<Figure size 1152x432 with 2 Axes>"
      ]
     },
     "metadata": {
      "needs_background": "light"
     },
     "output_type": "display_data"
    }
   ],
   "source": [
    "# input desired increase in percentage\n",
    "perc_purchases_desired_increase = 50\n",
    "perc_spent_desired_increase = 20\n",
    "\n",
    "pre_ab_test_site_mean_purchases = pre_ab_site_page_df.purchases.mean()\n",
    "pre_ab_test_site_median_purchases = pre_ab_site_page_df.purchases.median()\n",
    "\n",
    "pre_ab_test_site_mean_spent = pre_ab_site_page_df.spent.mean()\n",
    "pre_ab_test_site_median_spent = pre_ab_site_page_df.spent.median()\n",
    "\n",
    "desired_purchases = pre_ab_test_site_mean_purchases + (pre_ab_test_site_mean_purchases * (perc_purchases_desired_increase/100))\n",
    "desired_spent = pre_ab_test_site_mean_spent + (pre_ab_test_site_mean_spent * (perc_spent_desired_increase/100))\n",
    "\n",
    "fig, axs = plt.subplots(nrows=1, ncols=2, figsize=(16,6))\n",
    "fig.suptitle('Purchases and Amount Spent Before A/B Test on Site')\n",
    "\n",
    "\n",
    "sns.histplot(data=pre_ab_site_page_df, x='purchases', ax=axs[0])\n",
    "axs[0].axvline(x=pre_ab_test_site_mean_purchases, color='r', linestyle='--', label='purchases mean')\n",
    "axs[0].axvline(x=pre_ab_test_site_median_purchases, color='g', linestyle='--', label='purchases median')\n",
    "axs[0].axvline(x=desired_purchases, color='y', linestyle='--', label='purchases desired increase')\n",
    "axs[0].legend()\n",
    "\n",
    "sns.histplot(data=pre_ab_site_page_df, x='spent', ax=axs[1])\n",
    "axs[1].axvline(x=pre_ab_site_page_df.spent.mean(), color='r', linestyle='--', label='amount spent mean')\n",
    "axs[1].axvline(x=pre_ab_site_page_df.spent.median(), color='g', linestyle='--', label='amount spent median')\n",
    "axs[1].axvline(x=desired_spent, color='y', linestyle='--', label='amount spent desired increase')\n",
    "axs[1].legend()"
   ]
  },
  {
   "cell_type": "code",
   "execution_count": 29,
   "metadata": {
    "cell_style": "split"
   },
   "outputs": [
    {
     "data": {
      "text/plain": [
       "<matplotlib.legend.Legend at 0x7fce03aea7f0>"
      ]
     },
     "execution_count": 29,
     "metadata": {},
     "output_type": "execute_result"
    },
    {
     "data": {
      "image/png": "[encoded data removed]",
      "text/plain": [
       "<Figure size 1152x432 with 2 Axes>"
      ]
     },
     "metadata": {
      "needs_background": "light"
     },
     "output_type": "display_data"
    }
   ],
   "source": [
    "# input desired increase in percentage\n",
    "perc_purchases_desired_increase = 50\n",
    "perc_spent_desired_increase = 20\n",
    "\n",
    "pre_ab_test_app_mean_purchases = pre_ab_app_page_df.purchases.mean()\n",
    "pre_ab_test_app_median_purchases = pre_ab_app_page_df.purchases.median()\n",
    "\n",
    "pre_ab_test_app_mean_spent = pre_ab_app_page_df.spent.mean()\n",
    "pre_ab_test_app_median_spent = pre_ab_app_page_df.spent.median()\n",
    "\n",
    "desired_purchases = pre_ab_test_app_mean_purchases + (pre_ab_test_app_mean_purchases * (perc_purchases_desired_increase/100))\n",
    "desired_spent = pre_ab_test_app_mean_spent + (pre_ab_test_app_mean_spent * (perc_spent_desired_increase/100))\n",
    "\n",
    "fig, axs = plt.subplots(nrows=1, ncols=2, figsize=(16,6))\n",
    "fig.suptitle('Purchases and Amount Spent Before A/B Test on App')\n",
    "\n",
    "\n",
    "sns.histplot(data=pre_ab_app_page_df, x='purchases', ax=axs[0])\n",
    "axs[0].axvline(x=pre_ab_test_app_mean_purchases, color='r', linestyle='--', label='purchases mean')\n",
    "axs[0].axvline(x=pre_ab_test_app_median_purchases, color='g', linestyle='--', label='purchases median')\n",
    "axs[0].axvline(x=desired_purchases, color='y', linestyle='--', label='purchases desired increase')\n",
    "axs[0].legend()\n",
    "\n",
    "sns.histplot(data=pre_ab_app_page_df, x='spent', ax=axs[1])\n",
    "axs[1].axvline(x=pre_ab_app_page_df.spent.mean(), color='r', linestyle='--', label='amount spent mean')\n",
    "axs[1].axvline(x=pre_ab_app_page_df.spent.median(), color='g', linestyle='--', label='amount spent median')\n",
    "axs[1].axvline(x=desired_spent, color='y', linestyle='--', label='amount spent desired increase')\n",
    "axs[1].legend()"
   ]
  },
  {
   "cell_type": "markdown",
   "metadata": {},
   "source": [
    "##### All devices"
   ]
  },
  {
   "cell_type": "code",
   "execution_count": 30,
   "metadata": {},
   "outputs": [
    {
     "data": {
      "text/plain": [
       "<matplotlib.legend.Legend at 0x7fce0390f610>"
      ]
     },
     "execution_count": 30,
     "metadata": {},
     "output_type": "execute_result"
    },
    {
     "data": {
      "image/png": "[encoded data removed]",
      "text/plain": [
       "<Figure size 1152x432 with 2 Axes>"
      ]
     },
     "metadata": {
      "needs_background": "light"
     },
     "output_type": "display_data"
    }
   ],
   "source": [
    "# original metrics calculated from the control group A\n",
    "\n",
    "control_group = 'A'\n",
    "control_group_df = country_ab_records_df.loc[country_ab_records_df['group'] == control_group]\n",
    "\n",
    "purchases_lift_perc = 50\n",
    "spent_lift_perc = 10\n",
    "\n",
    "orig_mean_purchases = control_group_df['purchases'].mean()\n",
    "orig_median_purchases = control_group_df['purchases'].median()\n",
    "orig_std_purchases = control_group_df['purchases'].std()\n",
    "goal_mean_purchases = orig_mean_purchases * (1 + (purchases_lift_perc/100))\n",
    "goal_median_purchases = orig_median_purchases * (1 + (purchases_lift_perc/100))\n",
    "\n",
    "orig_mean_spent = control_group_df['spent'].mean()\n",
    "orig_median_spent = control_group_df['spent'].median()\n",
    "orig_std_spent = control_group_df['spent'].std()\n",
    "goal_mean_spent = orig_mean_spent * (1 + (spent_lift_perc/100))\n",
    "goal_median_spent = orig_median_spent * (1 + (spent_lift_perc/100))\n",
    "\n",
    "\n",
    "fig, axs = plt.subplots(nrows=1, ncols=2, figsize=(16,6))\n",
    "fig.suptitle('Purchases and Amount Spent of Control Group')\n",
    "\n",
    "sns.histplot(data=control_group_df, x='purchases', ax=axs[0])\n",
    "axs[0].axvline(x=orig_mean_purchases, color='r', linestyle='--', label='purchases mean')\n",
    "axs[0].axvline(x=orig_median_purchases, color='g', linestyle='--', label='purchases median')\n",
    "axs[0].axvline(x=goal_mean_purchases, color='y', linestyle='--', label='purchases desired increase')\n",
    "axs[0].legend()\n",
    "\n",
    "sns.histplot(data=control_group_df, x='spent', ax=axs[1])\n",
    "axs[1].axvline(x=orig_mean_spent, color='r', linestyle='--', label='amount spent mean')\n",
    "axs[1].axvline(x=orig_median_spent, color='g', linestyle='--', label='amount spent median')\n",
    "axs[1].axvline(x=goal_mean_spent, color='y', linestyle='--', label='amount spent desired increase')\n",
    "axs[1].legend()"
   ]
  },
  {
   "cell_type": "markdown",
   "metadata": {},
   "source": [
    "#### 1.4.2 Effect Size"
   ]
  },
  {
   "cell_type": "code",
   "execution_count": 31,
   "metadata": {},
   "outputs": [
    {
     "name": "stdout",
     "output_type": "stream",
     "text": [
      "Effect Size for purchases: 0.721\n",
      "Effect Size for amount spent: 0.134\n"
     ]
    }
   ],
   "source": [
    "# In this case the median should be used to calculate the effect size by looking at the population distribution and observing that it is skewed (find a theorectical logical reason)\n",
    "\n",
    "# Glass's delta effect size\n",
    "effect_size_purchases = (goal_mean_purchases - orig_mean_purchases)/orig_std_purchases \n",
    "effect_size_spent = (goal_mean_spent - orig_mean_spent)/orig_std_spent\n",
    "\n",
    "print(f'Effect Size for purchases: {effect_size_purchases:.3f}')\n",
    "print(f'Effect Size for amount spent: {effect_size_spent:.3f}')"
   ]
  },
  {
   "cell_type": "code",
   "execution_count": 32,
   "metadata": {},
   "outputs": [],
   "source": [
    "# # effect size only by differencing averages\n",
    "\n",
    "# site_purchases_effect_size = desired_purchases - pre_ab_test_site_mean_purchases\n",
    "# site_spent_effect_size = desired_spent - pre_ab_test_site_mean_spent\n",
    "\n",
    "# app_purchases_effect_size = desired_purchases - pre_ab_test_app_mean_purchases\n",
    "# app_spent_effect_size = desired_spent - pre_ab_test_app_mean_spent\n",
    "\n",
    "# print(f'Effect Size for purchases on site: {site_purchases_effect_size:.2f}')\n",
    "# print(f'Effect Size for amount spent on site: {site_spent_effect_size:.2f}',end='\\n\\n')\n",
    "\n",
    "# print(f'Effect Size for purchases on app: {app_purchases_effect_size:.2f}')\n",
    "# print(f'Effect Size for amount spent on app: {app_spent_effect_size:.2f}')"
   ]
  },
  {
   "cell_type": "code",
   "execution_count": 33,
   "metadata": {},
   "outputs": [],
   "source": [
    "# # effect size with Cohen d\n",
    "\n",
    "# site_purchases_effect_size = pg.compute_effsize(pre_ab_test_site_mean_purchases, desired_purchases, eftype='cohen')\n",
    "# site_spent_effect_size = pg.compute_effsize(pre_ab_test_site_mean_spent, desired_spent, eftype='cohen')\n",
    "\n",
    "# app_purchases_effect_size = pg.compute_effsize(pre_ab_test_app_mean_purchases, desired_purchases, eftype='cohen') \n",
    "# app_spent_effect_size = pg.compute_effsize(pre_ab_test_app_mean_spent, desired_spent, eftype='cohen')\n",
    "\n",
    "# site_purchases_effect_size\n",
    "\n",
    "# print(f'Effect Size for purchases on site: {site_purchases_effect_size:.2f}')\n",
    "# print(f'Effect Size for amount spent on site: {site_spent_effect_size:.2f}',end='\\n\\n')\n",
    "\n",
    "# print(f'Effect Size for purchases on app: {app_purchases_effect_size:.2f}')\n",
    "# print(f'Effect Size for amount spent on app: {app_spent_effect_size:.2f}')"
   ]
  },
  {
   "cell_type": "markdown",
   "metadata": {},
   "source": [
    "#### 1.4.3 Sample Size"
   ]
  },
  {
   "cell_type": "code",
   "execution_count": 34,
   "metadata": {},
   "outputs": [
    {
     "name": "stdout",
     "output_type": "stream",
     "text": [
      "Sample Size for purchases: 25\n",
      "Sample Size for amount spent: 685\n"
     ]
    }
   ],
   "source": [
    "analysis = sm.stats.TTestIndPower()\n",
    "sample_size_purchases = analysis.solve_power(effect_size=effect_size_purchases, alpha=0.05, power=0.8, alternative='larger')\n",
    "sample_size_spent = analysis.solve_power(effect_size=effect_size_spent, alpha=0.05, power=0.8, alternative='larger')\n",
    "\n",
    "sample_size_purchases = np.ceil(sample_size_purchases).astype(int)\n",
    "sample_size_spent = np.ceil(sample_size_spent).astype(int)\n",
    "\n",
    "print(f'Sample Size for purchases: {sample_size_purchases}')\n",
    "print(f'Sample Size for amount spent: {sample_size_spent}')"
   ]
  },
  {
   "cell_type": "markdown",
   "metadata": {},
   "source": [
    "### 1.5. Determine the statistical test"
   ]
  },
  {
   "cell_type": "markdown",
   "metadata": {},
   "source": [
    "#### Normality Test\n",
    "\n",
    "- Using Shapiro-Wilk test the null hypothesis is that the distribution of the variable does not follow a distribution other than normal"
   ]
  },
  {
   "cell_type": "code",
   "execution_count": 35,
   "metadata": {},
   "outputs": [
    {
     "data": {
      "text/plain": [
       "(9009, 8)"
      ]
     },
     "execution_count": 35,
     "metadata": {},
     "output_type": "execute_result"
    }
   ],
   "source": [
    "country_ab_records_df.shape"
   ]
  },
  {
   "cell_type": "code",
   "execution_count": 36,
   "metadata": {},
   "outputs": [
    {
     "name": "stdout",
     "output_type": "stream",
     "text": [
      "The null hypothesis is rejected, stating that the variable purchases do not follow a normal distribution with 95% confidence level\n",
      "\n",
      "The null hypothesis is rejected, stating that the variable spent do not follow a normal distribution with 95% confidence level\n",
      "\n"
     ]
    },
    {
     "name": "stderr",
     "output_type": "stream",
     "text": [
      "/home/data-madness/Documents/SynologyDrive/Projects/AB-Test-Products-Recommendation-Section/env_ab_prod_rec/lib/python3.8/site-packages/scipy/stats/_morestats.py:1761: UserWarning: p-value may not be accurate for N > 5000.\n",
      "  warnings.warn(\"p-value may not be accurate for N > 5000.\")\n"
     ]
    }
   ],
   "source": [
    "#perform Shapiro-Wilk test\n",
    "normality_results_purchases = shapiro(country_ab_records_df['purchases'])\n",
    "normality_results_spent = shapiro(country_ab_records_df['spent'])\n",
    "\n",
    "alpha_level = 0.05\n",
    "\n",
    "if normality_results_purchases[1] < alpha_level: \n",
    "    print(f'The null hypothesis is rejected, stating that the variable purchases do not follow a normal distribution with 95% confidence level\\n')\n",
    "else:\n",
    "    print(f'The null hypothesis is not rejected, stating that the variable purchases do follow a normal distribution with 5% chance of not being normal\\n')\n",
    "    \n",
    "if normality_results_spent[1] < alpha_level: \n",
    "    print(f'The null hypothesis is rejected, stating that the variable spent do not follow a normal distribution with 95% confidence level\\n')\n",
    "else:\n",
    "    print(f'The null hypothesis is not rejected, stating that the variable spent do follow a normal distribution with 5% chance of not being normal\\n')"
   ]
  },
  {
   "cell_type": "markdown",
   "metadata": {},
   "source": [
    "## 2.0 Statistical Test"
   ]
  },
  {
   "cell_type": "code",
   "execution_count": 37,
   "metadata": {},
   "outputs": [
    {
     "name": "stdout",
     "output_type": "stream",
     "text": [
      "Average Purchases Sample A: 4.56 +/- 3.15\n",
      "Average Purchases Sample B: 4.58 +/- 3.13\n",
      "\n",
      "Average Spent Sample A: 1895.87 +/- 1401.74\n",
      "Average Spent Sample B: 1902.81 +/- 1382.9\n",
      "\n",
      "The null hypothesis is not rejected, stating that the difference is not statistically significant between the number of purchases of test and control group with 5% chance of actually being significantly different, with a p-value of 0.26711874940114144\n",
      "\n",
      "The null hypothesis is not rejected, stating that the difference is not statistically significant between the amount spent of test and control group with 5% chance of actually being significantly different, with a p-value of 0.27225718897535134\n",
      "\n"
     ]
    }
   ],
   "source": [
    "# sample an equal number for the statistical test to work\n",
    "total_sample_size = 4400\n",
    "\n",
    "sample_A_purchases = ab_test_df['purchases'].sample(n=total_sample_size, random_state=42, replace=False)\n",
    "sample_B_purchases = ab_control_df['purchases'].sample(n=total_sample_size, random_state=42, replace=False)\n",
    "\n",
    "sample_A_spent = ab_test_df['spent'].sample(n=total_sample_size, random_state=42, replace=False)\n",
    "sample_B_spent = ab_control_df['spent'].sample(n=total_sample_size, random_state=42, replace=False)\n",
    "\n",
    "print(f'Average Purchases Sample A: {np.round(sample_A_purchases.mean(),2)} +/- {np.round(sample_A_purchases.std(),2)}')\n",
    "print(f'Average Purchases Sample B: {np.round(sample_B_purchases.mean(),2)} +/- {np.round(sample_B_purchases.std(),2)}')\n",
    "print()\n",
    "print(f'Average Spent Sample A: {np.round(sample_A_spent.mean(),2)} +/- {np.round(sample_A_spent.std(),2)}')\n",
    "print(f'Average Spent Sample B: {np.round(sample_B_spent.mean(),2)} +/- {np.round(sample_B_spent.std(),2)}')\n",
    "print()\n",
    "\n",
    "#perform the Wilcoxon-Signed Rank Test\n",
    "test_purchases = stats.wilcoxon(sample_B_purchases, sample_A_purchases, alternative='greater')\n",
    "test_spent = stats.wilcoxon(sample_B_spent, sample_A_spent, alternative='greater')\n",
    "\n",
    "alpha_level = 0.05\n",
    "\n",
    "if test_purchases[1] < alpha_level: \n",
    "    print(f'The null hypothesis is rejected, stating the difference between the number of purchases of test group and control group is statistically significant with 95% confidence level, with a p-value of {test_purchases[1]}\\n')\n",
    "else:\n",
    "    print(f'The null hypothesis is not rejected, stating that the difference is not statistically significant between the number of purchases of test and control group with 5% chance of actually being significantly different, with a p-value of {test_purchases[1]}\\n')\n",
    "    \n",
    "if test_spent[1] < alpha_level: \n",
    "    print(f'The null hypothesis is rejected, stating the difference between the amount spent of test group and control group is statistically significant with 95% confidence level, with a p-value of {test_spent[1]}\\n')\n",
    "else:\n",
    "    print(f'The null hypothesis is not rejected, stating that the difference is not statistically significant between the amount spent of test and control group with 5% chance of actually being significantly different, with a p-value of {test_spent[1]}\\n')"
   ]
  },
  {
   "cell_type": "markdown",
   "metadata": {},
   "source": [
    "## 3.0 Permutation Test"
   ]
  },
  {
   "cell_type": "markdown",
   "metadata": {},
   "source": [
    "1. Combine the results from the different groups into a single data set.\n",
    "2. Shuffle the combined data and then randomly draw (without replacement) a\n",
    "resample of the same size as group A (clearly it will contain some data from the\n",
    "other groups).\n",
    "3. From the remaining data, randomly draw (without replacement) a resample of\n",
    "the same size as group B.\n",
    "4. Do the same for groups C, D, and so on. You have now collected one set of\n",
    "resamples that mirror the sizes of the original samples.\n",
    "5. Whatever statistic or estimate was calculated for the original samples (e.g., difference in group proportions), calculate it now for the resamples, and record; this\n",
    "constitutes one permutation iteration.\n",
    "6. Repeat the previous steps R times to yield a permutation distribution of the test\n",
    "statistic.\n",
    "7. Then to conclude if the difference is really statistically significant and greater, the difference from each iteration must not be greater than the original observed difference more than 5% of the times, with a 5% significance level."
   ]
  },
  {
   "cell_type": "markdown",
   "metadata": {},
   "source": [
    "### 3.1. A sample from each group"
   ]
  },
  {
   "cell_type": "code",
   "execution_count": 38,
   "metadata": {},
   "outputs": [
    {
     "name": "stdout",
     "output_type": "stream",
     "text": [
      "Average Purchases Sample A: 5.68 +/- 3.21\n",
      "Average Purchases Sample B: 4.36 +/- 2.22\n",
      "\n",
      "Average Spent Sample A: 1925.75 +/- 1394.8\n",
      "Average Spent Sample B: 1893.24 +/- 1395.25\n"
     ]
    }
   ],
   "source": [
    "sample_A_purchases = ab_test_df['purchases'].sample(n=sample_size_purchases, random_state=42, replace=False)\n",
    "sample_B_purchases = ab_control_df['purchases'].sample(n=sample_size_purchases, random_state=42, replace=False)\n",
    "\n",
    "sample_A_spent = ab_test_df['spent'].sample(n=sample_size_spent, random_state=42, replace=False)\n",
    "sample_B_spent = ab_control_df['spent'].sample(n=sample_size_spent, random_state=42, replace=False)\n",
    "\n",
    "\n",
    "print(f'Average Purchases Sample A: {np.round(sample_A_purchases.mean(),2)} +/- {np.round(sample_A_purchases.std(),2)}')\n",
    "print(f'Average Purchases Sample B: {np.round(sample_B_purchases.mean(),2)} +/- {np.round(sample_B_purchases.std(),2)}')\n",
    "print()\n",
    "print(f'Average Spent Sample A: {np.round(sample_A_spent.mean(),2)} +/- {np.round(sample_A_spent.std(),2)}')\n",
    "print(f'Average Spent Sample B: {np.round(sample_B_spent.mean(),2)} +/- {np.round(sample_B_spent.std(),2)}')"
   ]
  },
  {
   "cell_type": "code",
   "execution_count": 39,
   "metadata": {},
   "outputs": [
    {
     "name": "stdout",
     "output_type": "stream",
     "text": [
      "The null hypothesis is not rejected, stating that the difference is not statistically significant between the number of purchases of test and control group with 5% chance of actually being significantly different, with a p-value of 0.9331799745559692\n",
      "\n",
      "The null hypothesis is not rejected, stating that the difference is not statistically significant between the amount spent of test and control group with 5% chance of actually being significantly different, with a p-value of 0.6414661433523171\n",
      "\n"
     ]
    }
   ],
   "source": [
    "#perform the Wilcoxon-Signed Rank Test\n",
    "test_purchases = stats.wilcoxon(sample_B_purchases, sample_A_purchases, alternative='greater')\n",
    "test_spent = stats.wilcoxon(sample_B_spent, sample_A_spent, alternative='greater')\n",
    "\n",
    "alpha_level = 0.05\n",
    "\n",
    "if test_purchases[1] < alpha_level: \n",
    "    print(f'The null hypothesis is rejected, stating the difference between the number of purchases of test group and control group is statistically significant with 95% confidence level, with a p-value of {test_purchases[1]}\\n')\n",
    "else:\n",
    "    print(f'The null hypothesis is not rejected, stating that the difference is not statistically significant between the number of purchases of test and control group with 5% chance of actually being significantly different, with a p-value of {test_purchases[1]}\\n')\n",
    "    \n",
    "if test_spent[1] < alpha_level: \n",
    "    print(f'The null hypothesis is rejected, stating the difference between the amount spent of test group and control group is statistically significant with 95% confidence level, with a p-value of {test_spent[1]}\\n')\n",
    "else:\n",
    "    print(f'The null hypothesis is not rejected, stating that the difference is not statistically significant between the amount spent of test and control group with 5% chance of actually being significantly different, with a p-value of {test_spent[1]}\\n')"
   ]
  },
  {
   "cell_type": "markdown",
   "metadata": {},
   "source": [
    "### 3.2. Multiple iterations"
   ]
  },
  {
   "cell_type": "code",
   "execution_count": 40,
   "metadata": {},
   "outputs": [],
   "source": [
    "def permutation_diff(records_df, n_control, n_test):\n",
    "    n = n_control + n_test\n",
    "    idx_test = set(random.sample(range(n), n_test))\n",
    "    idx_control = set(range(n)) - idx_test\n",
    "    return records_df.loc[list(idx_test)].mean() - records_df.loc[list(idx_control)].mean()"
   ]
  },
  {
   "cell_type": "code",
   "execution_count": 41,
   "metadata": {},
   "outputs": [
    {
     "data": {
      "text/plain": [
       "Text(0, 0.5, 'Frequency')"
      ]
     },
     "execution_count": 41,
     "metadata": {},
     "output_type": "execute_result"
    },
    {
     "data": {
      "image/png": "[encoded data removed]",
      "text/plain": [
       "<Figure size 1152x720 with 2 Axes>"
      ]
     },
     "metadata": {
      "needs_background": "light"
     },
     "output_type": "display_data"
    }
   ],
   "source": [
    "control_mean_purchases = ab_control_df['purchases'].mean()\n",
    "test_mean_purchases = ab_test_df['purchases'].mean()\n",
    "\n",
    "control_mean_spent = ab_control_df['spent'].mean()\n",
    "test_mean_spent = ab_test_df['spent'].mean()\n",
    "\n",
    "perm_diffs_purchases = [permutation_diff(country_ab_records_df['purchases'].reset_index(drop=True), ab_control_df['purchases'].shape[0], ab_test_df['purchases'].shape[0]) for _ in range(1000)]\n",
    "perm_diffs_spent = [permutation_diff(country_ab_records_df['spent'].reset_index(drop=True), ab_control_df['spent'].shape[0], ab_test_df['spent'].shape[0]) for _ in range(1000)]\n",
    "\n",
    "fig, axs = plt.subplots(nrows=1, ncols=2, figsize=(16,10))\n",
    "\n",
    "axs[0].hist(perm_diffs_purchases, bins=11, rwidth=0.9)\n",
    "axs[0].axvline(x=test_mean_purchases - control_mean_purchases, color='black', lw=2, linestyle='--')\n",
    "axs[0].text(30, 80, 'Observed\\ndifference\\non purchases', bbox={'facecolor':'white'})\n",
    "axs[0].set_xlabel('Purchases differences')\n",
    "axs[0].set_ylabel('Frequency')\n",
    "\n",
    "axs[1].hist(perm_diffs_spent, bins=11, rwidth=0.9)\n",
    "axs[1].axvline(x=test_mean_spent - control_mean_spent, color='black', lw=2, linestyle='--')\n",
    "axs[1].text(50, 190, 'Observed\\ndifference\\non amount spent', bbox={'facecolor':'white'})\n",
    "axs[1].set_xlabel('Amount Spent differences')\n",
    "axs[1].set_ylabel('Frequency')"
   ]
  },
  {
   "cell_type": "code",
   "execution_count": 42,
   "metadata": {},
   "outputs": [
    {
     "name": "stdout",
     "output_type": "stream",
     "text": [
      "Percentage of times that the mean difference of random permutations exceeds the observed difference of purchases:\n",
      "57.9%\n",
      "Percentage of times that the mean difference of random permutations exceeds the observed difference of spent:\n",
      "58.1%\n"
     ]
    }
   ],
   "source": [
    "perc_exceeding_purchases = np.round(np.mean(perm_diffs_purchases > (test_mean_purchases - control_mean_purchases))*100,2)\n",
    "perc_exceeding_spent = np.round(np.mean(perm_diffs_spent > (test_mean_spent - control_mean_spent))*100,2)\n",
    "\n",
    "print(f'Percentage of times that the mean difference of random permutations exceeds the observed difference of purchases:\\n{perc_exceeding_purchases}%')\n",
    "print(f'Percentage of times that the mean difference of random permutations exceeds the observed difference of spent:\\n{perc_exceeding_spent}%')"
   ]
  },
  {
   "cell_type": "markdown",
   "metadata": {},
   "source": [
    "### Conclusion\n",
    "\n",
    "1. The new recommendation section page in Brazil did not shown enough evidence to admit changing the old section."
   ]
  },
  {
   "cell_type": "code",
   "execution_count": null,
   "metadata": {},
   "outputs": [],
   "source": []
  }
 ],
 "metadata": {
  "kernelspec": {
   "display_name": "env_ab_prod_rec",
   "language": "python",
   "name": "env_ab_prod_rec"
  },
  "language_info": {
   "codemirror_mode": {
    "name": "ipython",
    "version": 3
   },
   "file_extension": ".py",
   "mimetype": "text/x-python",
   "name": "python",
   "nbconvert_exporter": "python",
   "pygments_lexer": "ipython3",
   "version": "3.8.10"
  },
  "toc": {
   "base_numbering": 1,
   "nav_menu": {},
   "number_sections": false,
   "sideBar": true,
   "skip_h1_title": false,
   "title_cell": "Table of Contents",
   "title_sidebar": "Contents",
   "toc_cell": false,
   "toc_position": {},
   "toc_section_display": true,
   "toc_window_display": false
  }
 },
 "nbformat": 4,
 "nbformat_minor": 4
}
